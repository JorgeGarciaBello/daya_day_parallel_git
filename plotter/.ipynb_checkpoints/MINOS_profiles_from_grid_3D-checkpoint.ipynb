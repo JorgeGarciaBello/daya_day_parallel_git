{
 "cells": [
  {
   "cell_type": "code",
   "execution_count": 1,
   "metadata": {},
   "outputs": [],
   "source": [
    "import pandas as pd\n",
    "import numpy as np\n",
    "import matplotlib.pyplot as plt\n",
    "from scipy import interpolate"
   ]
  },
  {
   "cell_type": "markdown",
   "metadata": {},
   "source": [
    "# Cargar datos"
   ]
  },
  {
   "cell_type": "code",
   "execution_count": 2,
   "metadata": {},
   "outputs": [],
   "source": [
    "# MINOS \n",
    "minos_data = pd.read_csv('minos_nh_ih/minos.3D.grid.of.sk.dm32.s2t13.s2t23.nh', names=['dm32','s2_t13','s2_t23','ji'], delim_whitespace=True)\n",
    "# SK\n",
    "sk_data = pd.read_csv('sk_nh_ih/sk-nh-ji.dat', names=['dm32','s2_t13','s2_t23','ji'], delim_whitespace=True)\n",
    "# DAYA BAY\n",
    "db_data = pd.read_csv('daya_bay_nh_ih/db-3D-nh.dat', names=['dm32','s2_t13','s2_t23','ji'], delim_whitespace=True)\n",
    "# RENO\n",
    "reno_data = pd.read_csv('reno_nh_ih/reno-3D-nh.dat', names=['dm32','s2_t13','s2_t23','ji'], delim_whitespace=True)"
   ]
  },
  {
   "cell_type": "code",
   "execution_count": 3,
   "metadata": {},
   "outputs": [],
   "source": [
    "def get_min_vals(df):\n",
    "    \n",
    "    idx_min    = df['ji'].idxmin()\n",
    "    ji_min     = df['ji'][idx_min]\n",
    "    dm32_min   = df['dm32'][idx_min]\n",
    "    s2_t13_min = df['s2_t13'][idx_min]\n",
    "    s2_t23_min = df['s2_t23'][idx_min]    \n",
    "    \n",
    "    return {'dm32_min':dm32_min,'s2_t13_min':s2_t13_min,'s2_t23_min':s2_t23_min,'ji_min':ji_min}\n",
    "\n",
    "def get_normalize_data(df,minima_dic):\n",
    "           \n",
    "    df['ji']  = df['ji'] - minima_dic['ji_min']    \n",
    "    print(minima_dic)\n",
    "    \n",
    "    return df\n",
    "\n",
    "def get_data_to_plotter_1D(df,param):        \n",
    "    \n",
    "        dat_mins=get_min_vals(df)\n",
    "        data=get_normalize_data(df,dat_mins)\n",
    "        \n",
    "        if(param=='dm32'):\n",
    "            result = data[ ( data['s2_t13'] == dat_mins['s2_t13_min'] ) & ( data['s2_t23'] == dat_mins['s2_t23_min'] ) ]\n",
    "            data = result[ ['dm32','ji'] ]\n",
    "        elif(param=='s2_t13'):\n",
    "            result = data[(data['dm32']   == dat_mins['dm32_min']) & (data['s2_t23'] == dat_mins['s2_t23_min'])]\n",
    "            data = result[['s2_t13','ji']]\n",
    "        elif(param=='s2_t23'):\n",
    "            result = data[(data['dm32']   == dat_mins['dm32_min']) & (data['s2_t13'] == dat_mins['s2_t13_min'])]\n",
    "            data = result[['s2_t23','ji']]\n",
    "        return data\n",
    "    \n",
    "def get_interpolated_data_1D(df,param,size):\n",
    "    \n",
    "    df = get_data_to_plotter_1D(df,param)\n",
    "    \n",
    "    x = df[param].values\n",
    "    #x=np.append(x,x[-1]*(1.1))\n",
    "    \n",
    "    y = df.ji.values\n",
    "    #y=np.append(y,y[-1]*y[-1]*15)\n",
    "    \n",
    "    f1 = interpolate.interp1d(x, y, kind = 'cubic')\n",
    "    x_new = np.linspace(x[0], x[-1],size)\n",
    "    y_new = f1(x_new)\n",
    "    data_new = pd.DataFrame({param:x_new,'ji':y_new})\n",
    "    \n",
    "    idx_min        = data_new['ji'].idxmin()\n",
    "    ji_min         = data_new['ji'][idx_min]\n",
    "    data_new['ji'] = data_new['ji'] - ji_min\n",
    "    \n",
    "    return data_new\n",
    "\n",
    "def get_data_to_plotter_2D(df,params):        \n",
    "    \n",
    "        dat_mins=get_min_vals(df)\n",
    "        data=get_normalize_data(df,dat_mins)\n",
    "        parameters = ['dm32','s2_t13','s2_t23']\n",
    "        if ((params[0] not in parameters) or (params[1] not in parameters)): \n",
    "            print('Metiste mal los parametros a gráficas, deben ser: [dm32,s2_t13,s2_t23] ')\n",
    "        else:            \n",
    "            if(('dm32' in params) & ('s2_t13' in params)):                \n",
    "                \n",
    "                result = data[ data['s2_t23'] == dat_mins['s2_t23_min'] ]\n",
    "                data   = result[ ['dm32','s2_t13','ji'] ]                \n",
    "                \n",
    "            elif(('dm32' in params) & ('s2_t23' in params)):\n",
    "\n",
    "                result = data[ data['s2_t13'] == dat_mins['s2_t13_min'] ]\n",
    "                data = result[ ['dm32','s2_t23','ji'] ]\n",
    "\n",
    "            elif(('s2_t13' in params) & ('s2_t23' in params)):\n",
    "\n",
    "                result = data[ data['dm32'] == dat_mins['dm32_min'] ]\n",
    "                data = result[ ['s2_t13','s2_t23','ji'] ]\n",
    "\n",
    "            else:\n",
    "                print('La opción no existe')            \n",
    "        return data\n",
    "\n",
    "def get_interpolated_data_2D(df,params,size):\n",
    "     \n",
    "    df1 = get_data_to_plotter_2D(df,params)\n",
    "    par =[]\n",
    "\n",
    "    if(('dm32' in params) & ('s2_t13' in params)):\n",
    "        par.append('dm32')\n",
    "        par.append('s2_t13')\n",
    "    elif(('dm32' in params) & ('s2_t23' in params)):            \n",
    "        par.append('dm32')\n",
    "        par.append('s2_t23')    \n",
    "    elif(('s2_t13' in params) & ('s2_t23' in params)):\n",
    "        par.append('s2_t13')\n",
    "        par.append('s2_t23')\n",
    "    else:\n",
    "        print('La opción no existe')\n",
    "        \n",
    "     \n",
    "    x=df1[par[0]].drop_duplicates().to_numpy()\n",
    "    y=df1[par[1]].drop_duplicates().to_numpy() ###\n",
    "    z=df1.ji.values                \n",
    "\n",
    "    f = interpolate.interp2d(x, y, z, kind='cubic')\n",
    "\n",
    "    x_new=np.linspace(x[0], x[-1],size)\n",
    "    y_new=np.linspace(y[0], y[-1],size)\n",
    "    z_for_my=f(x_new,y_new)\n",
    "    z_for_my=z_for_my.T\n",
    "    z_new=z_for_my.reshape(size*size)\n",
    "    \n",
    "    x=[]\n",
    "    y=[]\n",
    "    for i in x_new:\n",
    "        for j in y_new:\n",
    "            x.append(i)\n",
    "            y.append(j)\n",
    "    data_new = pd.DataFrame({par[0]:x,par[1]:y,'ji':z_new})      \n",
    "    return data_new"
   ]
  },
  {
   "cell_type": "markdown",
   "metadata": {},
   "source": [
    "# MINOS  - ( $\\sin^2 \\theta_{13}$, $\\sin^2 \\theta_{23}$, $\\Delta m^2_{32}$ vs $\\Delta \\chi^2$)"
   ]
  },
  {
   "cell_type": "code",
   "execution_count": 4,
   "metadata": {},
   "outputs": [],
   "source": [
    "def ploter_MINOS_profile(df,param,size):\n",
    "    r = get_interpolated_data_1D(df,param,size)\n",
    "    fig, ax = plt.subplots()\n",
    "    \n",
    "    ax.plot(param, 'ji', data=r,label='MINOS',c='black')\n",
    "    lgnd = plt.legend(loc=\"upper right\",fontsize=13)#, scatterpoints=1, )\n",
    "    \n",
    "    labels=[]    \n",
    "    if(param=='dm32'):\n",
    "        #ax.set_xlim(0.2, 0.8)\n",
    "        #ax.set_xticks([0.2,0.4,0.6,0.8])\n",
    "        #ax.set_xticklabels(['$0.2$','$0.4$','$0.6$','$0.8$'])\n",
    "        \n",
    "        ax.set_ylim(0, 20)   \n",
    "        ax.set_yticks([0,5,10,15,20])\n",
    "        ax.set_yticklabels(['$0$','$5$','$10$','$15$','$20$'])\n",
    "        \n",
    "        labels=[r'$\\Delta m^2_{32}$',r'$\\Delta \\chi^2 $']\n",
    "    elif(param=='s2_t13'):\n",
    "        ax.set_ylim(0, 20)   \n",
    "        ax.set_yticks([0,5,10,15,20])\n",
    "        ax.set_yticklabels(['$0$','$5$','$10$','$15$','$20$'])\n",
    "        \n",
    "        labels=[r'$\\sin^2 \\theta_{13}$',r'$\\Delta \\chi^2 $']\n",
    "    elif(param=='s2_t23'):\n",
    "        ax.set_ylim(0, 20)   \n",
    "        ax.set_yticks([0,5,10,15,20])\n",
    "        ax.set_yticklabels(['$0$','$5$','$10$','$15$','$20$'])\n",
    "        \n",
    "        labels=[r'$\\sin^2 \\theta_{23}$',r'$\\Delta \\chi^2 $']\n",
    "    else:\n",
    "        print('Opción no de \"param\" es incorrecta')\n",
    "        \n",
    "    ax.tick_params(labelcolor='black', labelsize=13, width=1)\n",
    "    \n",
    "    ax.set(xlabel=labels[0], ylabel=labels[1])\n",
    "    ax.xaxis.label.set_size(15)\n",
    "    ax.yaxis.label.set_size(15)\n",
    "    plt.tight_layout()\n",
    "    ax.grid(True, linestyle='--')\n",
    "    \n",
    "    fig.savefig('images/plot_MINOS_'+param+'_vs_ji.png')\n",
    "    return   "
   ]
  },
  {
   "cell_type": "code",
   "execution_count": 5,
   "metadata": {},
   "outputs": [
    {
     "name": "stdout",
     "output_type": "stream",
     "text": [
      "{'dm32_min': 0.0026, 's2_t13_min': 0.07, 's2_t23_min': 0.7, 'ji_min': 57.13037584}\n"
     ]
    },
    {
     "ename": "KeyError",
     "evalue": "'s2_t13'",
     "output_type": "error",
     "traceback": [
      "\u001b[0;31m---------------------------------------------------------------------------\u001b[0m",
      "\u001b[0;31mKeyError\u001b[0m                                  Traceback (most recent call last)",
      "\u001b[0;32m~/anaconda3/lib/python3.7/site-packages/pandas/core/indexes/base.py\u001b[0m in \u001b[0;36mget_loc\u001b[0;34m(self, key, method, tolerance)\u001b[0m\n\u001b[1;32m   2645\u001b[0m             \u001b[0;32mtry\u001b[0m\u001b[0;34m:\u001b[0m\u001b[0;34m\u001b[0m\u001b[0;34m\u001b[0m\u001b[0m\n\u001b[0;32m-> 2646\u001b[0;31m                 \u001b[0;32mreturn\u001b[0m \u001b[0mself\u001b[0m\u001b[0;34m.\u001b[0m\u001b[0m_engine\u001b[0m\u001b[0;34m.\u001b[0m\u001b[0mget_loc\u001b[0m\u001b[0;34m(\u001b[0m\u001b[0mkey\u001b[0m\u001b[0;34m)\u001b[0m\u001b[0;34m\u001b[0m\u001b[0;34m\u001b[0m\u001b[0m\n\u001b[0m\u001b[1;32m   2647\u001b[0m             \u001b[0;32mexcept\u001b[0m \u001b[0mKeyError\u001b[0m\u001b[0;34m:\u001b[0m\u001b[0;34m\u001b[0m\u001b[0;34m\u001b[0m\u001b[0m\n",
      "\u001b[0;32mpandas/_libs/index.pyx\u001b[0m in \u001b[0;36mpandas._libs.index.IndexEngine.get_loc\u001b[0;34m()\u001b[0m\n",
      "\u001b[0;32mpandas/_libs/index.pyx\u001b[0m in \u001b[0;36mpandas._libs.index.IndexEngine.get_loc\u001b[0;34m()\u001b[0m\n",
      "\u001b[0;32mpandas/_libs/hashtable_class_helper.pxi\u001b[0m in \u001b[0;36mpandas._libs.hashtable.PyObjectHashTable.get_item\u001b[0;34m()\u001b[0m\n",
      "\u001b[0;32mpandas/_libs/hashtable_class_helper.pxi\u001b[0m in \u001b[0;36mpandas._libs.hashtable.PyObjectHashTable.get_item\u001b[0;34m()\u001b[0m\n",
      "\u001b[0;31mKeyError\u001b[0m: 's2_t13'",
      "\nDuring handling of the above exception, another exception occurred:\n",
      "\u001b[0;31mKeyError\u001b[0m                                  Traceback (most recent call last)",
      "\u001b[0;32m<ipython-input-5-b34415819aef>\u001b[0m in \u001b[0;36m<module>\u001b[0;34m\u001b[0m\n\u001b[0;32m----> 1\u001b[0;31m \u001b[0mploter_MINOS_profile\u001b[0m\u001b[0;34m(\u001b[0m\u001b[0mminos_data\u001b[0m\u001b[0;34m,\u001b[0m\u001b[0;34m'dm32'\u001b[0m\u001b[0;34m,\u001b[0m\u001b[0;36m1000\u001b[0m\u001b[0;34m)\u001b[0m\u001b[0;34m\u001b[0m\u001b[0;34m\u001b[0m\u001b[0m\n\u001b[0m",
      "\u001b[0;32m<ipython-input-4-15109050d4d6>\u001b[0m in \u001b[0;36mploter_MINOS_profile\u001b[0;34m(df, param, size)\u001b[0m\n\u001b[1;32m      1\u001b[0m \u001b[0;32mdef\u001b[0m \u001b[0mploter_MINOS_profile\u001b[0m\u001b[0;34m(\u001b[0m\u001b[0mdf\u001b[0m\u001b[0;34m,\u001b[0m\u001b[0mparam\u001b[0m\u001b[0;34m,\u001b[0m\u001b[0msize\u001b[0m\u001b[0;34m)\u001b[0m\u001b[0;34m:\u001b[0m\u001b[0;34m\u001b[0m\u001b[0;34m\u001b[0m\u001b[0m\n\u001b[0;32m----> 2\u001b[0;31m     \u001b[0mr\u001b[0m \u001b[0;34m=\u001b[0m \u001b[0mget_interpolated_data_1D\u001b[0m\u001b[0;34m(\u001b[0m\u001b[0mdf\u001b[0m\u001b[0;34m,\u001b[0m\u001b[0mparam\u001b[0m\u001b[0;34m,\u001b[0m\u001b[0msize\u001b[0m\u001b[0;34m)\u001b[0m\u001b[0;34m\u001b[0m\u001b[0;34m\u001b[0m\u001b[0m\n\u001b[0m\u001b[1;32m      3\u001b[0m     \u001b[0mfig\u001b[0m\u001b[0;34m,\u001b[0m \u001b[0max\u001b[0m \u001b[0;34m=\u001b[0m \u001b[0mplt\u001b[0m\u001b[0;34m.\u001b[0m\u001b[0msubplots\u001b[0m\u001b[0;34m(\u001b[0m\u001b[0;34m)\u001b[0m\u001b[0;34m\u001b[0m\u001b[0;34m\u001b[0m\u001b[0m\n\u001b[1;32m      4\u001b[0m \u001b[0;34m\u001b[0m\u001b[0m\n\u001b[1;32m      5\u001b[0m     \u001b[0max\u001b[0m\u001b[0;34m.\u001b[0m\u001b[0mplot\u001b[0m\u001b[0;34m(\u001b[0m\u001b[0mparam\u001b[0m\u001b[0;34m,\u001b[0m \u001b[0;34m'ji'\u001b[0m\u001b[0;34m,\u001b[0m \u001b[0mdata\u001b[0m\u001b[0;34m=\u001b[0m\u001b[0mr\u001b[0m\u001b[0;34m,\u001b[0m\u001b[0mlabel\u001b[0m\u001b[0;34m=\u001b[0m\u001b[0;34m'MINOS'\u001b[0m\u001b[0;34m,\u001b[0m\u001b[0mc\u001b[0m\u001b[0;34m=\u001b[0m\u001b[0;34m'black'\u001b[0m\u001b[0;34m)\u001b[0m\u001b[0;34m\u001b[0m\u001b[0;34m\u001b[0m\u001b[0m\n",
      "\u001b[0;32m<ipython-input-3-f7d38e044737>\u001b[0m in \u001b[0;36mget_interpolated_data_1D\u001b[0;34m(df, param, size)\u001b[0m\n\u001b[1;32m     47\u001b[0m     \u001b[0mdata_new\u001b[0m \u001b[0;34m=\u001b[0m \u001b[0mpd\u001b[0m\u001b[0;34m.\u001b[0m\u001b[0mDataFrame\u001b[0m\u001b[0;34m(\u001b[0m\u001b[0;34m{\u001b[0m\u001b[0mparam\u001b[0m\u001b[0;34m:\u001b[0m\u001b[0mx_new\u001b[0m\u001b[0;34m,\u001b[0m\u001b[0;34m'ji'\u001b[0m\u001b[0;34m:\u001b[0m\u001b[0my_new\u001b[0m\u001b[0;34m}\u001b[0m\u001b[0;34m)\u001b[0m\u001b[0;34m\u001b[0m\u001b[0;34m\u001b[0m\u001b[0m\n\u001b[1;32m     48\u001b[0m \u001b[0;34m\u001b[0m\u001b[0m\n\u001b[0;32m---> 49\u001b[0;31m     \u001b[0mdat_mins\u001b[0m\u001b[0;34m=\u001b[0m\u001b[0mget_min_vals\u001b[0m\u001b[0;34m(\u001b[0m\u001b[0mdata_new\u001b[0m\u001b[0;34m)\u001b[0m\u001b[0;34m\u001b[0m\u001b[0;34m\u001b[0m\u001b[0m\n\u001b[0m\u001b[1;32m     50\u001b[0m \u001b[0;34m\u001b[0m\u001b[0m\n\u001b[1;32m     51\u001b[0m \u001b[0;34m\u001b[0m\u001b[0m\n",
      "\u001b[0;32m<ipython-input-3-f7d38e044737>\u001b[0m in \u001b[0;36mget_min_vals\u001b[0;34m(df)\u001b[0m\n\u001b[1;32m      4\u001b[0m     \u001b[0mji_min\u001b[0m     \u001b[0;34m=\u001b[0m \u001b[0mdf\u001b[0m\u001b[0;34m[\u001b[0m\u001b[0;34m'ji'\u001b[0m\u001b[0;34m]\u001b[0m\u001b[0;34m[\u001b[0m\u001b[0midx_min\u001b[0m\u001b[0;34m]\u001b[0m\u001b[0;34m\u001b[0m\u001b[0;34m\u001b[0m\u001b[0m\n\u001b[1;32m      5\u001b[0m     \u001b[0mdm32_min\u001b[0m   \u001b[0;34m=\u001b[0m \u001b[0mdf\u001b[0m\u001b[0;34m[\u001b[0m\u001b[0;34m'dm32'\u001b[0m\u001b[0;34m]\u001b[0m\u001b[0;34m[\u001b[0m\u001b[0midx_min\u001b[0m\u001b[0;34m]\u001b[0m\u001b[0;34m\u001b[0m\u001b[0;34m\u001b[0m\u001b[0m\n\u001b[0;32m----> 6\u001b[0;31m     \u001b[0ms2_t13_min\u001b[0m \u001b[0;34m=\u001b[0m \u001b[0mdf\u001b[0m\u001b[0;34m[\u001b[0m\u001b[0;34m's2_t13'\u001b[0m\u001b[0;34m]\u001b[0m\u001b[0;34m[\u001b[0m\u001b[0midx_min\u001b[0m\u001b[0;34m]\u001b[0m\u001b[0;34m\u001b[0m\u001b[0;34m\u001b[0m\u001b[0m\n\u001b[0m\u001b[1;32m      7\u001b[0m     \u001b[0ms2_t23_min\u001b[0m \u001b[0;34m=\u001b[0m \u001b[0mdf\u001b[0m\u001b[0;34m[\u001b[0m\u001b[0;34m's2_t23'\u001b[0m\u001b[0;34m]\u001b[0m\u001b[0;34m[\u001b[0m\u001b[0midx_min\u001b[0m\u001b[0;34m]\u001b[0m\u001b[0;34m\u001b[0m\u001b[0;34m\u001b[0m\u001b[0m\n\u001b[1;32m      8\u001b[0m \u001b[0;34m\u001b[0m\u001b[0m\n",
      "\u001b[0;32m~/anaconda3/lib/python3.7/site-packages/pandas/core/frame.py\u001b[0m in \u001b[0;36m__getitem__\u001b[0;34m(self, key)\u001b[0m\n\u001b[1;32m   2798\u001b[0m             \u001b[0;32mif\u001b[0m \u001b[0mself\u001b[0m\u001b[0;34m.\u001b[0m\u001b[0mcolumns\u001b[0m\u001b[0;34m.\u001b[0m\u001b[0mnlevels\u001b[0m \u001b[0;34m>\u001b[0m \u001b[0;36m1\u001b[0m\u001b[0;34m:\u001b[0m\u001b[0;34m\u001b[0m\u001b[0;34m\u001b[0m\u001b[0m\n\u001b[1;32m   2799\u001b[0m                 \u001b[0;32mreturn\u001b[0m \u001b[0mself\u001b[0m\u001b[0;34m.\u001b[0m\u001b[0m_getitem_multilevel\u001b[0m\u001b[0;34m(\u001b[0m\u001b[0mkey\u001b[0m\u001b[0;34m)\u001b[0m\u001b[0;34m\u001b[0m\u001b[0;34m\u001b[0m\u001b[0m\n\u001b[0;32m-> 2800\u001b[0;31m             \u001b[0mindexer\u001b[0m \u001b[0;34m=\u001b[0m \u001b[0mself\u001b[0m\u001b[0;34m.\u001b[0m\u001b[0mcolumns\u001b[0m\u001b[0;34m.\u001b[0m\u001b[0mget_loc\u001b[0m\u001b[0;34m(\u001b[0m\u001b[0mkey\u001b[0m\u001b[0;34m)\u001b[0m\u001b[0;34m\u001b[0m\u001b[0;34m\u001b[0m\u001b[0m\n\u001b[0m\u001b[1;32m   2801\u001b[0m             \u001b[0;32mif\u001b[0m \u001b[0mis_integer\u001b[0m\u001b[0;34m(\u001b[0m\u001b[0mindexer\u001b[0m\u001b[0;34m)\u001b[0m\u001b[0;34m:\u001b[0m\u001b[0;34m\u001b[0m\u001b[0;34m\u001b[0m\u001b[0m\n\u001b[1;32m   2802\u001b[0m                 \u001b[0mindexer\u001b[0m \u001b[0;34m=\u001b[0m \u001b[0;34m[\u001b[0m\u001b[0mindexer\u001b[0m\u001b[0;34m]\u001b[0m\u001b[0;34m\u001b[0m\u001b[0;34m\u001b[0m\u001b[0m\n",
      "\u001b[0;32m~/anaconda3/lib/python3.7/site-packages/pandas/core/indexes/base.py\u001b[0m in \u001b[0;36mget_loc\u001b[0;34m(self, key, method, tolerance)\u001b[0m\n\u001b[1;32m   2646\u001b[0m                 \u001b[0;32mreturn\u001b[0m \u001b[0mself\u001b[0m\u001b[0;34m.\u001b[0m\u001b[0m_engine\u001b[0m\u001b[0;34m.\u001b[0m\u001b[0mget_loc\u001b[0m\u001b[0;34m(\u001b[0m\u001b[0mkey\u001b[0m\u001b[0;34m)\u001b[0m\u001b[0;34m\u001b[0m\u001b[0;34m\u001b[0m\u001b[0m\n\u001b[1;32m   2647\u001b[0m             \u001b[0;32mexcept\u001b[0m \u001b[0mKeyError\u001b[0m\u001b[0;34m:\u001b[0m\u001b[0;34m\u001b[0m\u001b[0;34m\u001b[0m\u001b[0m\n\u001b[0;32m-> 2648\u001b[0;31m                 \u001b[0;32mreturn\u001b[0m \u001b[0mself\u001b[0m\u001b[0;34m.\u001b[0m\u001b[0m_engine\u001b[0m\u001b[0;34m.\u001b[0m\u001b[0mget_loc\u001b[0m\u001b[0;34m(\u001b[0m\u001b[0mself\u001b[0m\u001b[0;34m.\u001b[0m\u001b[0m_maybe_cast_indexer\u001b[0m\u001b[0;34m(\u001b[0m\u001b[0mkey\u001b[0m\u001b[0;34m)\u001b[0m\u001b[0;34m)\u001b[0m\u001b[0;34m\u001b[0m\u001b[0;34m\u001b[0m\u001b[0m\n\u001b[0m\u001b[1;32m   2649\u001b[0m         \u001b[0mindexer\u001b[0m \u001b[0;34m=\u001b[0m \u001b[0mself\u001b[0m\u001b[0;34m.\u001b[0m\u001b[0mget_indexer\u001b[0m\u001b[0;34m(\u001b[0m\u001b[0;34m[\u001b[0m\u001b[0mkey\u001b[0m\u001b[0;34m]\u001b[0m\u001b[0;34m,\u001b[0m \u001b[0mmethod\u001b[0m\u001b[0;34m=\u001b[0m\u001b[0mmethod\u001b[0m\u001b[0;34m,\u001b[0m \u001b[0mtolerance\u001b[0m\u001b[0;34m=\u001b[0m\u001b[0mtolerance\u001b[0m\u001b[0;34m)\u001b[0m\u001b[0;34m\u001b[0m\u001b[0;34m\u001b[0m\u001b[0m\n\u001b[1;32m   2650\u001b[0m         \u001b[0;32mif\u001b[0m \u001b[0mindexer\u001b[0m\u001b[0;34m.\u001b[0m\u001b[0mndim\u001b[0m \u001b[0;34m>\u001b[0m \u001b[0;36m1\u001b[0m \u001b[0;32mor\u001b[0m \u001b[0mindexer\u001b[0m\u001b[0;34m.\u001b[0m\u001b[0msize\u001b[0m \u001b[0;34m>\u001b[0m \u001b[0;36m1\u001b[0m\u001b[0;34m:\u001b[0m\u001b[0;34m\u001b[0m\u001b[0;34m\u001b[0m\u001b[0m\n",
      "\u001b[0;32mpandas/_libs/index.pyx\u001b[0m in \u001b[0;36mpandas._libs.index.IndexEngine.get_loc\u001b[0;34m()\u001b[0m\n",
      "\u001b[0;32mpandas/_libs/index.pyx\u001b[0m in \u001b[0;36mpandas._libs.index.IndexEngine.get_loc\u001b[0;34m()\u001b[0m\n",
      "\u001b[0;32mpandas/_libs/hashtable_class_helper.pxi\u001b[0m in \u001b[0;36mpandas._libs.hashtable.PyObjectHashTable.get_item\u001b[0;34m()\u001b[0m\n",
      "\u001b[0;32mpandas/_libs/hashtable_class_helper.pxi\u001b[0m in \u001b[0;36mpandas._libs.hashtable.PyObjectHashTable.get_item\u001b[0;34m()\u001b[0m\n",
      "\u001b[0;31mKeyError\u001b[0m: 's2_t13'"
     ]
    }
   ],
   "source": [
    "ploter_MINOS_profile(minos_data,'dm32',1000)"
   ]
  },
  {
   "cell_type": "code",
   "execution_count": null,
   "metadata": {},
   "outputs": [],
   "source": [
    "ploter_MINOS_profile(minos_data,'s2_t13',1000)"
   ]
  },
  {
   "cell_type": "code",
   "execution_count": null,
   "metadata": {},
   "outputs": [],
   "source": [
    "ploter_MINOS_profile(minos_data,'s2_t23',1000)"
   ]
  },
  {
   "cell_type": "markdown",
   "metadata": {},
   "source": [
    "# MINOS  - ( 2D vs $\\Delta \\chi^2$)"
   ]
  },
  {
   "cell_type": "code",
   "execution_count": null,
   "metadata": {},
   "outputs": [],
   "source": [
    "def ploter_MINOS_confidence_regions(df,params,size):\n",
    "    \n",
    "    df = get_interpolated_data_2D(df,params,size)\n",
    "    \n",
    "    cl_68 = df[ (df['ji']  <=  2.30) & (df['ji']  >=  2.15) ]    \n",
    "    cl_90 = df[ (df['ji']  <=  4.61) & (df['ji']  >=  4.51) ]\n",
    "    \n",
    "    fig, ax = plt.subplots(figsize=(9,6))\n",
    "    \n",
    "    par =[]\n",
    "    labels = []    \n",
    "    if( ('dm32' in params) & ('s2_t13' in params) ):\n",
    "        par.append('s2_t13')\n",
    "        par.append('dm32')\n",
    "        ax.set_xlim(0., 0.08)\n",
    "        ax.set_xticks([0.,0.02,0.04,0.06,0.08])\n",
    "        ax.set_xticklabels(['$0.0$','$0.02$','$0.04$','$0.06$','$0.08$'])\n",
    "        \n",
    "        ax.set_ylim(0.002, 0.003)   \n",
    "        ax.set_yticks([0.002,0.0022,0.0024,0.0026,0.0028,0.003])\n",
    "        ax.set_yticklabels(['$2.0$','$2.2$','$2.4$','$2.6$','$2.8$','$3.0$'])\n",
    "        labels = [r'$\\sin^2 \\theta_{13}$',r'$\\Delta m^2_{32}$'+' [eV$^2$] (x10$^{-3}$)']        \n",
    "    elif( ('dm32' in params) & ('s2_t23' in params) ):\n",
    "        par.append('s2_t23')\n",
    "        par.append('dm32')\n",
    "        labels = [r'$\\sin^2 \\theta_{23}$',r'$\\Delta m^2_{32}$'+' [eV$^2$] (x10$^{-3}$)']\n",
    "        #ax.set_xlim(0.2, 0.8)\n",
    "        #ax.set_xticks([0.2,0.4,0.6,0.8])\n",
    "        #ax.set_xticklabels(['$0.2$','$0.4$','$0.6$','$0.8$'])\n",
    "        \n",
    "        ax.set_ylim(0.002, 0.0030)   \n",
    "        ax.set_yticks([0.002,0.0022,0.0024,0.0026,0.0028,0.003,0.0032])\n",
    "        ax.set_yticklabels(['$2.0$','$2.2$','$2.4$','$2.6$','$2.8$','$3.0$','$3.2$'])\n",
    "    elif( ('s2_t13' in params) & ('s2_t23' in params) ):\n",
    "        par.append('s2_t13')\n",
    "        par.append('s2_t23')\n",
    "        ax.set_xlim(0., 0.08)\n",
    "        ax.set_xticks([0.,0.02,0.04,0.06,0.08])\n",
    "        ax.set_xticklabels(['$0.0$','$0.02$','$0.04$','$0.06$','$0.08$'])\n",
    "        labels = [r'$\\sin^2 \\theta_{13}$',r'$\\sin^2 \\theta_{23}$']\n",
    "    else:\n",
    "        print('Opción no correcta')\n",
    "        \n",
    "    ax.scatter(par[0], par[1], data=cl_90, c='black',s=0.5)\n",
    "    ax.scatter(par[0], par[1], data=cl_68, c='blue',s=0.5)\n",
    "    \n",
    "    ax.set(xlabel=labels[0], ylabel=labels[1],  title='MINOS')\n",
    "    ax.xaxis.label.set_size(16)\n",
    "    ax.yaxis.label.set_size(16)\n",
    "    \n",
    "    ax.tick_params(labelcolor='black', labelsize=13, width=1)\n",
    "    \n",
    "    ax.grid(True,linestyle='--')\n",
    "    fig.savefig('images/plot_MINOS_'+par[0]+'_'+par[1]+ '_vs_ji.png')\n",
    "    return"
   ]
  },
  {
   "cell_type": "code",
   "execution_count": null,
   "metadata": {},
   "outputs": [],
   "source": [
    "ploter_MINOS_confidence_regions(minos_data,['dm32','s2_t23'],1800)"
   ]
  },
  {
   "cell_type": "code",
   "execution_count": null,
   "metadata": {},
   "outputs": [],
   "source": [
    "ploter_MINOS_confidence_regions(minos_data,['s2_t13','dm32'],2500)"
   ]
  },
  {
   "cell_type": "code",
   "execution_count": null,
   "metadata": {},
   "outputs": [],
   "source": [
    "ploter_MINOS_confidence_regions(minos_data,['s2_t23','s2_t13'],1000)"
   ]
  },
  {
   "cell_type": "markdown",
   "metadata": {},
   "source": [
    "# SK  - ( 1D vs $\\Delta \\chi^2$)"
   ]
  },
  {
   "cell_type": "code",
   "execution_count": null,
   "metadata": {},
   "outputs": [],
   "source": [
    "def ploter_SK_profile(df,param,size):\n",
    "    r = get_interpolated_data_1D(df,param,size)\n",
    "    \n",
    "    fig, ax = plt.subplots(figsize=(9,6))\n",
    "    ax.plot(param, 'ji', data=r,label='Super-Kamiokande',c='black')\n",
    "    lgnd = plt.legend(loc=\"upper right\",fontsize=13)\n",
    "    \n",
    "    labels=[]    \n",
    "    if(param=='dm32'):\n",
    "        ax.set_xlim(0.001, 0.005)\n",
    "        ax.set_xticks([0.001,0.002,0.003,0.004,0.005])\n",
    "        ax.set_xticklabels(['$1.0$','$2.0$','$3.0$','$4.0$','$5.0$'])\n",
    "        \n",
    "        ax.set_ylim(0, 20)   \n",
    "        ax.set_yticks([0,5,10,15,20])\n",
    "        ax.set_yticklabels(['$0$','$5$','$10$','$15$','$20$'])\n",
    "        \n",
    "        labels=[r'$\\Delta m^2_{32}$ [eV$^2$] (x10$^{-3}$)',r'$\\Delta \\chi^2 $']\n",
    "    elif(param=='s2_t13'):\n",
    "        ax.set_ylim(0, 20)   \n",
    "        ax.set_yticks([0,5,10,15,20])\n",
    "        ax.set_yticklabels(['$0$','$5$','$10$','$15$','$20$'])\n",
    "        \n",
    "        ax.set_xlim(0.00, 0.07)\n",
    "        ax.set_xticks([0.00,0.01,0.02,0.03,0.04,0.05,0.06,0.07])\n",
    "        ax.set_xticklabels(['$0.0$','$0.01$','$0.02$','$0.03$','$0.04$','$0.05$','$0.06$','$0.07$'])\n",
    "        \n",
    "        labels=[r'$\\sin^2 \\theta_{13}$',r'$\\Delta \\chi^2 $']\n",
    "    elif(param=='s2_t23'):\n",
    "        ax.set_ylim(0, 20)   \n",
    "        ax.set_yticks([0,5,10,15,20])\n",
    "        ax.set_yticklabels(['$0$','$5$','$10$','$15$','$20$'])\n",
    "        \n",
    "        labels=[r'$\\sin^2 \\theta_{23}$',r'$\\Delta \\chi^2 $']\n",
    "    else:\n",
    "        print('Opción no de \"param\" es incorrecta')\n",
    "        \n",
    "    ax.tick_params(labelcolor='black', labelsize=14, width=1)\n",
    "    \n",
    "    ax.set(xlabel=labels[0], ylabel=labels[1])\n",
    "    ax.xaxis.label.set_size(15)\n",
    "    ax.yaxis.label.set_size(15)\n",
    "    plt.tight_layout()\n",
    "    ax.grid(True, linestyle='--')\n",
    "    \n",
    "    fig.savefig('images/plot_SK_'+param+'_vs_ji.png')\n",
    "    return   "
   ]
  },
  {
   "cell_type": "code",
   "execution_count": null,
   "metadata": {},
   "outputs": [],
   "source": [
    "ploter_SK_profile(sk_data,'dm32',200)"
   ]
  },
  {
   "cell_type": "code",
   "execution_count": null,
   "metadata": {},
   "outputs": [],
   "source": [
    "ploter_SK_profile(sk_data,'s2_t13',200)"
   ]
  },
  {
   "cell_type": "code",
   "execution_count": null,
   "metadata": {},
   "outputs": [],
   "source": [
    "ploter_SK_profile(sk_data,'s2_t23',200)"
   ]
  },
  {
   "cell_type": "markdown",
   "metadata": {},
   "source": [
    "# SK  - ( 2D vs $\\Delta \\chi^2$)"
   ]
  },
  {
   "cell_type": "code",
   "execution_count": null,
   "metadata": {},
   "outputs": [],
   "source": [
    "def ploter_SK_confidence_regions(df,params,size):\n",
    "    \n",
    "    df = get_interpolated_data_2D(df,params,size)\n",
    "    \n",
    "    cl_68 = df[ (df['ji']  <=  2.30)  & (df['ji']  >=  2.15) ]   # 68.27 C.L. \n",
    "    #cl_90 = df[ (df['ji']  <=  4.61)  & (df['ji']  >=  4.51) ]\n",
    "    cl_95 = df[ (df['ji']  <=  6.18)  & (df['ji']  >=  6.05) ]   # 95.45 C.L.\n",
    "    cl_99 = df[ (df['ji']  <=  11.83) & (df['ji']  >=  11.65) ]  # 99.73 C.L.\n",
    "    \n",
    "    fig, ax = plt.subplots(figsize=(9,6))\n",
    "    \n",
    "    par =[]\n",
    "    labels = []    \n",
    "    if( ('dm32' in params) & ('s2_t13' in params) ):\n",
    "        par.append('s2_t13')\n",
    "        par.append('dm32')\n",
    "        ax.set_xlim(0.0, 0.07)\n",
    "        ax.set_xticks([0.,0.02,0.04,0.06])\n",
    "        ax.set_xticklabels(['$0.0$','$0.02$','$0.04$','$0.06$'])\n",
    "        \n",
    "        ax.set_ylim(0.0015, 0.0035)   \n",
    "        ax.set_yticks([0.0015,0.0020,0.0025,0.0030,0.0035])\n",
    "        ax.set_yticklabels(['$1.5$','$2.0$','$2.5$','$3.0$','$3.5$'])\n",
    "        labels = [r'$\\sin^2 \\theta_{13}$',r'$\\Delta m^2_{32}$'+' [eV$^2$] (x10$^{-3}$)']        \n",
    "    elif( ('dm32' in params) & ('s2_t23' in params) ):\n",
    "        par.append('s2_t23')\n",
    "        par.append('dm32')        \n",
    "        #ax.set_xlim(0.2, 0.8)\n",
    "        #ax.set_xticks([0.2,0.4,0.6,0.8])\n",
    "        #ax.set_xticklabels(['$0.2$','$0.4$','$0.6$','$0.8$'])\n",
    "        \n",
    "        ax.set_ylim(0.0015, 0.0035)   \n",
    "        ax.set_yticks([0.0015,0.0020,0.0025,0.0030,0.0035])\n",
    "        ax.set_yticklabels(['$1.5$','$2.0$','$2.5$','$3.0$','$3.5$'])\n",
    "        \n",
    "        labels = [r'$\\sin^2 \\theta_{23}$',r'$\\Delta m^2_{32}$'+' [eV$^2$] (x10$^{-3}$)']\n",
    "    elif( ('s2_t13' in params) & ('s2_t23' in params) ):\n",
    "        par.append('s2_t13')\n",
    "        par.append('s2_t23')\n",
    "        ax.set_xlim(0.0, 0.07)\n",
    "        ax.set_xticks([0.,0.02,0.04,0.06])\n",
    "        ax.set_xticklabels(['$0.0$','$0.02$','$0.04$','$0.06$'])\n",
    "        \n",
    "        ax.set_ylim(0.3, 0.7)\n",
    "        ax.set_yticks([0.30,0.40,0.5,0.60,0.70])\n",
    "        ax.set_yticklabels(['$3.0$','$4.0$','$5.0$','$6.0$','$7.0$'])\n",
    "        \n",
    "        labels = [r'$\\sin^2 \\theta_{13}$',r'$\\sin^2 \\theta_{23}$']\n",
    "    else:\n",
    "        print('Opción no correcta')\n",
    "    \n",
    "    ax.scatter(par[0], par[1], data=cl_99, c='black',s=0.5)\n",
    "    ax.scatter(par[0], par[1], data=cl_95, c='red',s=0.5)    \n",
    "    #ax.scatter(par[0], par[1], data=cl_90, c='black',s=0.5)\n",
    "    ax.scatter(par[0], par[1], data=cl_68, c='blue',s=0.5)\n",
    "    \n",
    "    ax.set(xlabel=labels[0], ylabel=labels[1],  title='Super-Kamiokande')\n",
    "    ax.xaxis.label.set_size(16)\n",
    "    ax.yaxis.label.set_size(16)\n",
    "    \n",
    "    ax.tick_params(labelcolor='black', labelsize=13, width=1)\n",
    "    \n",
    "    ax.grid(True,linestyle='--')\n",
    "    fig.savefig('images/plot_SK_'+par[0]+'_'+par[1]+ '_vs_ji.png')\n",
    "    return"
   ]
  },
  {
   "cell_type": "code",
   "execution_count": null,
   "metadata": {},
   "outputs": [],
   "source": [
    "ploter_SK_confidence_regions(sk_data,['dm32','s2_t23'],1200)"
   ]
  },
  {
   "cell_type": "code",
   "execution_count": null,
   "metadata": {},
   "outputs": [],
   "source": [
    "ploter_SK_confidence_regions(sk_data,['dm32','s2_t13'],1200)"
   ]
  },
  {
   "cell_type": "code",
   "execution_count": null,
   "metadata": {},
   "outputs": [],
   "source": [
    "ploter_SK_confidence_regions(sk_data,['s2_t13','s2_t23'],1200)"
   ]
  },
  {
   "cell_type": "markdown",
   "metadata": {},
   "source": [
    "# Daya Bay  - ( 1D vs $\\Delta \\chi^2$)"
   ]
  },
  {
   "cell_type": "code",
   "execution_count": null,
   "metadata": {},
   "outputs": [],
   "source": [
    "def ploter_DB_profile(df,param,size):\n",
    "    r = get_interpolated_data_1D(df,param,size)\n",
    "    \n",
    "    fig, ax = plt.subplots(figsize=(9,6))\n",
    "    ax.plot(param, 'ji', data=r,label='Daya Bay',c='black')\n",
    "    lgnd = plt.legend(loc=\"upper right\",fontsize=13)\n",
    "    \n",
    "    labels=[]    \n",
    "    if(param=='dm32'):\n",
    "        ax.set_xlim(0.002, 0.003)\n",
    "        ax.set_xticks([0.002,0.0022,0.0024,0.0026,0.0028,0.003])\n",
    "        ax.set_xticklabels(['$2.0$','$2.2$','$2.4$','$2.6$','$2.8$','$3.0$'])\n",
    "        \n",
    "        ax.set_ylim(0, 12)\n",
    "        ax.set_yticks([0,2,4,6,8,10,12])\n",
    "        ax.set_yticklabels(['$0$','$2$','$4$','$6$','$8$','$10$','$12$'])\n",
    "        \n",
    "        labels=[r'$\\Delta m^2_{32}$ [eV$^2$] (x10$^{-3}$)',r'$\\Delta \\chi^2 $']\n",
    "    elif(param=='s2_t13'):\n",
    "        ax.set_ylim(0, 12)   \n",
    "        ax.set_yticks([0,2,4,6,8,10,12])\n",
    "        ax.set_yticklabels(['$0$','$2$','$4$','$6$','$8$','$10$','$12$'])\n",
    "        \n",
    "        ax.set_xlim(0.015, 0.03)\n",
    "        ax.set_xticks([0.015,0.020,0.025,0.030])\n",
    "        ax.set_xticklabels(['$0.015$','$0.020$','$0.025$','$0.030$'])\n",
    "        \n",
    "        labels=[r'$\\sin^2 \\theta_{13}$',r'$\\Delta \\chi^2 $']\n",
    "    elif(param=='s2_t23'):\n",
    "        #ax.set_ylim(0, 20)   \n",
    "       #ax.set_yticks([0,5,10,15,20])\n",
    "       # ax.set_yticklabels(['$0$','$5$','$10$','$15$','$20$'])\n",
    "        \n",
    "        labels=[r'$\\sin^2 \\theta_{23}$',r'$\\Delta \\chi^2 $']\n",
    "    else:\n",
    "        print('Opción no de \"param\" es incorrecta')\n",
    "        \n",
    "    ax.tick_params(labelcolor='black', labelsize=14, width=1)\n",
    "    \n",
    "    ax.set(xlabel=labels[0], ylabel=labels[1])\n",
    "    ax.xaxis.label.set_size(15)\n",
    "    ax.yaxis.label.set_size(15)\n",
    "    plt.tight_layout()\n",
    "    ax.grid(True, linestyle='--')\n",
    "    \n",
    "    fig.savefig('images/plot_DB_'+param+'_vs_ji.png')\n",
    "    return   "
   ]
  },
  {
   "cell_type": "code",
   "execution_count": null,
   "metadata": {},
   "outputs": [],
   "source": [
    "ploter_DB_profile(db_data,'dm32',5000)"
   ]
  },
  {
   "cell_type": "code",
   "execution_count": null,
   "metadata": {},
   "outputs": [],
   "source": [
    "ploter_DB_profile(db_data,'s2_t13',1000)"
   ]
  },
  {
   "cell_type": "code",
   "execution_count": null,
   "metadata": {},
   "outputs": [],
   "source": [
    "ploter_DB_profile(db_data,'s2_t23',1000)"
   ]
  },
  {
   "cell_type": "markdown",
   "metadata": {},
   "source": [
    "# Daya Bay  - ( 2D vs $\\Delta \\chi^2$)"
   ]
  },
  {
   "cell_type": "code",
   "execution_count": null,
   "metadata": {},
   "outputs": [],
   "source": [
    "def ploter_DB_confidence_regions(df,params,size):\n",
    "    \n",
    "    df = get_interpolated_data_2D(df,params,size)\n",
    "    \n",
    "    cl_68 = df[ (df['ji']  <=  2.30)  & (df['ji']  >=  2.15) ]   # 68.27 C.L. \n",
    "    #cl_90 = df[ (df['ji']  <=  4.61)  & (df['ji']  >=  4.51) ]\n",
    "    cl_95 = df[ (df['ji']  <=  6.18)  & (df['ji']  >=  6.05) ]   # 95.45 C.L.\n",
    "    cl_99 = df[ (df['ji']  <=  11.83) & (df['ji']  >=  11.65) ]  # 99.73 C.L.\n",
    "    \n",
    "    fig, ax = plt.subplots(figsize=(9,6))\n",
    "    \n",
    "    par =[]\n",
    "    labels = []    \n",
    "    if( ('dm32' in params) & ('s2_t13' in params) ):\n",
    "        par.append('s2_t13')\n",
    "        par.append('dm32')\n",
    "        #ax.set_xlim(0.0, 0.07)\n",
    "        #ax.set_xticks([0.,0.02,0.04,0.06])\n",
    "        #ax.set_xticklabels(['$0.0$','$0.02$','$0.04$','$0.06$'])\n",
    "        \n",
    "        ax.set_ylim(0.002, 0.0030)   \n",
    "        ax.set_yticks([0.002,0.0022,0.0024,0.0026,0.0028,0.0030])\n",
    "        ax.set_yticklabels(['$2.0$','$2.2$','$2.4$','$2.6$','$2.8$','$3.0$'])\n",
    "        labels = [r'$\\sin^2 \\theta_{13}$',r'$\\Delta m^2_{32}$'+' [eV$^2$] (x10$^{-3}$)']        \n",
    "    elif( ('dm32' in params) & ('s2_t23' in params) ):\n",
    "        par.append('s2_t23')\n",
    "        par.append('dm32')        \n",
    "        \n",
    "        labels = [r'$\\sin^2 \\theta_{23}$',r'$\\Delta m^2_{32}$'+' [eV$^2$] (x10$^{-3}$)']\n",
    "    elif( ('s2_t13' in params) & ('s2_t23' in params) ):\n",
    "        par.append('s2_t13')\n",
    "        par.append('s2_t23')        \n",
    "        \n",
    "        labels = [r'$\\sin^2 \\theta_{13}$',r'$\\sin^2 \\theta_{23}$']\n",
    "    else:\n",
    "        print('Opción no correcta')\n",
    "    \n",
    "    ax.scatter(par[0], par[1], data=cl_99, c='black',s=0.5)\n",
    "    ax.scatter(par[0], par[1], data=cl_95, c='red',s=0.5)    \n",
    "    #ax.scatter(par[0], par[1], data=cl_90, c='black',s=0.5)\n",
    "    ax.scatter(par[0], par[1], data=cl_68, c='blue',s=0.5)\n",
    "    \n",
    "    ax.set(xlabel=labels[0], ylabel=labels[1],  title='Daya Bay')\n",
    "    ax.xaxis.label.set_size(16)\n",
    "    ax.yaxis.label.set_size(16)\n",
    "    \n",
    "    ax.tick_params(labelcolor='black', labelsize=13, width=1)\n",
    "    \n",
    "    ax.grid(True,linestyle='--')\n",
    "    fig.savefig('images/plot_DB_'+par[0]+'_'+par[1]+ '_vs_ji.png')\n",
    "    return"
   ]
  },
  {
   "cell_type": "code",
   "execution_count": null,
   "metadata": {},
   "outputs": [],
   "source": [
    "ploter_DB_confidence_regions(db_data,['dm32','s2_t23'],1000)"
   ]
  },
  {
   "cell_type": "code",
   "execution_count": null,
   "metadata": {},
   "outputs": [],
   "source": [
    "ploter_DB_confidence_regions(db_data,['dm32','s2_t13'],3000)"
   ]
  },
  {
   "cell_type": "code",
   "execution_count": null,
   "metadata": {},
   "outputs": [],
   "source": [
    "ploter_DB_confidence_regions(db_data,['s2_t23','s2_t13'],1000)"
   ]
  },
  {
   "cell_type": "markdown",
   "metadata": {},
   "source": [
    "# RENO  - ( 1D vs $\\Delta \\chi^2$)"
   ]
  },
  {
   "cell_type": "code",
   "execution_count": null,
   "metadata": {},
   "outputs": [],
   "source": [
    "def ploter_RENO_profile(df,param,size):\n",
    "    r = get_interpolated_data_1D(df,param,size)\n",
    "    \n",
    "    fig, ax = plt.subplots(figsize=(9,6))\n",
    "    ax.plot(param, 'ji', data=r,label='RENO',c='black')\n",
    "    lgnd = plt.legend(loc=\"upper right\",fontsize=13)\n",
    "    \n",
    "    labels=[]    \n",
    "    if(param=='dm32'):\n",
    "        ax.set_xlim(0.002, 0.0035)\n",
    "        ax.set_xticks([0.002,0.0022,0.0024,0.0026,0.0028,0.003,0.0032,0.0034])\n",
    "        ax.set_xticklabels(['$2.0$','$2.2$','$2.4$','$2.6$','$2.8$','$3.0$','$3.2$','$3.4$'])\n",
    "        \n",
    "        ax.set_ylim(0, 12)\n",
    "        ax.set_yticks([0,2,4,6,8,10,12])\n",
    "        ax.set_yticklabels(['$0$','$2$','$4$','$6$','$8$','$10$','$12$'])\n",
    "        \n",
    "        labels=[r'$\\Delta m^2_{32}$ [eV$^2$] (x10$^{-3}$)',r'$\\Delta \\chi^2 $']\n",
    "    elif(param=='s2_t13'):\n",
    "        ax.set_ylim(0, 12)   \n",
    "        ax.set_yticks([0,2,4,6,8,10,12])\n",
    "        ax.set_yticklabels(['$0$','$2$','$4$','$6$','$8$','$10$','$12$'])\n",
    "        \n",
    "        ax.set_xlim(0.015, 0.03)\n",
    "        ax.set_xticks([0.015,0.020,0.025,0.030])\n",
    "        ax.set_xticklabels(['$0.015$','$0.020$','$0.025$','$0.030$'])\n",
    "        \n",
    "        labels=[r'$\\sin^2 \\theta_{13}$',r'$\\Delta \\chi^2 $']\n",
    "    elif(param=='s2_t23'):\n",
    "        #ax.set_ylim(0, 20)   \n",
    "       #ax.set_yticks([0,5,10,15,20])\n",
    "       # ax.set_yticklabels(['$0$','$5$','$10$','$15$','$20$'])\n",
    "        \n",
    "        labels=[r'$\\sin^2 \\theta_{23}$',r'$\\Delta \\chi^2 $']\n",
    "    else:\n",
    "        print('Opción no de \"param\" es incorrecta')\n",
    "        \n",
    "    ax.tick_params(labelcolor='black', labelsize=14, width=1)\n",
    "    \n",
    "    ax.set(xlabel=labels[0], ylabel=labels[1])\n",
    "    ax.xaxis.label.set_size(15)\n",
    "    ax.yaxis.label.set_size(15)\n",
    "    plt.tight_layout()\n",
    "    ax.grid(True, linestyle='--')\n",
    "    \n",
    "    fig.savefig('images/plot_RENO_'+param+'_vs_ji.png')\n",
    "    return  "
   ]
  },
  {
   "cell_type": "code",
   "execution_count": null,
   "metadata": {},
   "outputs": [],
   "source": [
    "ploter_RENO_profile(reno_data,'dm32',1000)"
   ]
  },
  {
   "cell_type": "code",
   "execution_count": null,
   "metadata": {},
   "outputs": [],
   "source": [
    "ploter_RENO_profile(reno_data,'s2_t13',1000)"
   ]
  },
  {
   "cell_type": "code",
   "execution_count": null,
   "metadata": {},
   "outputs": [],
   "source": [
    "ploter_RENO_profile(reno_data,'s2_t23',1000)"
   ]
  },
  {
   "cell_type": "markdown",
   "metadata": {},
   "source": [
    "# RENO  - ( 2D vs $\\Delta \\chi^2$)"
   ]
  },
  {
   "cell_type": "code",
   "execution_count": null,
   "metadata": {},
   "outputs": [],
   "source": [
    "def ploter_RENO_confidence_regions(df,params,size):\n",
    "    \n",
    "    df = get_interpolated_data_2D(df,params,size)\n",
    "    \n",
    "    cl_68 = df[ (df['ji']  <=  2.30)  & (df['ji']  >=  2.15) ]   # 68.27 C.L. \n",
    "    #cl_90 = df[ (df['ji']  <=  4.61)  & (df['ji']  >=  4.51) ]\n",
    "    cl_95 = df[ (df['ji']  <=  6.18)  & (df['ji']  >=  6.05) ]   # 95.45 C.L.\n",
    "    cl_99 = df[ (df['ji']  <=  11.83) & (df['ji']  >=  11.65) ]  # 99.73 C.L.\n",
    "    \n",
    "    fig, ax = plt.subplots(figsize=(9,6))\n",
    "    \n",
    "    par =[]\n",
    "    labels = []    \n",
    "    if( ('dm32' in params) & ('s2_t13' in params) ):\n",
    "        par.append('s2_t13')\n",
    "        par.append('dm32')\n",
    "        ax.set_xlim(0.015, 0.032)\n",
    "        #ax.set_xticks([0.,0.02,0.04,0.06])\n",
    "        #ax.set_xticklabels(['$0.0$','$0.02$','$0.04$','$0.06$'])\n",
    "        \n",
    "        ax.set_ylim(0.002, 0.0035)   \n",
    "        ax.set_yticks([0.002,0.0025,0.0030,0.0035])\n",
    "        ax.set_yticklabels(['$2.0$','$2.5$','$3.0$','$3.5$'])\n",
    "        labels = [r'$\\sin^2 \\theta_{13}$',r'$\\Delta m^2_{32}$'+' [eV$^2$] (x10$^{-3}$)']        \n",
    "    elif( ('dm32' in params) & ('s2_t23' in params) ):\n",
    "        par.append('s2_t23')\n",
    "        par.append('dm32')        \n",
    "        \n",
    "        labels = [r'$\\sin^2 \\theta_{23}$',r'$\\Delta m^2_{32}$'+' [eV$^2$] (x10$^{-3}$)']\n",
    "    elif( ('s2_t13' in params) & ('s2_t23' in params) ):\n",
    "        par.append('s2_t13')\n",
    "        par.append('s2_t23')        \n",
    "        \n",
    "        labels = [r'$\\sin^2 \\theta_{13}$',r'$\\sin^2 \\theta_{23}$']\n",
    "    else:\n",
    "        print('Opción no correcta')\n",
    "    \n",
    "    ax.scatter(par[0], par[1], data=cl_99, c='black',s=0.5)\n",
    "    ax.scatter(par[0], par[1], data=cl_95, c='red',s=0.5)    \n",
    "    #ax.scatter(par[0], par[1], data=cl_90, c='black',s=0.5)\n",
    "    ax.scatter(par[0], par[1], data=cl_68, c='blue',s=0.5)\n",
    "    \n",
    "    ax.set(xlabel=labels[0], ylabel=labels[1],  title='RENO')\n",
    "    ax.xaxis.label.set_size(16)\n",
    "    ax.yaxis.label.set_size(16)\n",
    "    \n",
    "    ax.tick_params(labelcolor='black', labelsize=13, width=1)\n",
    "    \n",
    "    ax.grid(True,linestyle='--')\n",
    "    fig.savefig('images/plot_RENO_'+par[0]+'_'+par[1]+ '_vs_ji.png')\n",
    "    return"
   ]
  },
  {
   "cell_type": "code",
   "execution_count": null,
   "metadata": {},
   "outputs": [],
   "source": [
    "ploter_RENO_confidence_regions(reno_data,['dm32','s2_t23'],1000)"
   ]
  },
  {
   "cell_type": "code",
   "execution_count": null,
   "metadata": {},
   "outputs": [],
   "source": [
    "ploter_RENO_confidence_regions(reno_data,['dm32','s2_t13'],1500)"
   ]
  },
  {
   "cell_type": "code",
   "execution_count": null,
   "metadata": {},
   "outputs": [],
   "source": [
    "ploter_RENO_confidence_regions(reno_data,['s2_t23','s2_t13'],1000)"
   ]
  },
  {
   "cell_type": "markdown",
   "metadata": {},
   "source": [
    "# Análisis unificado"
   ]
  },
  {
   "cell_type": "code",
   "execution_count": null,
   "metadata": {},
   "outputs": [],
   "source": [
    "#sk_data,reno_data,minos_data,db_data\n",
    "sum_ji = sk_data['ji']+reno_data['ji']+minos_data['ji']+db_data['ji']"
   ]
  },
  {
   "cell_type": "code",
   "execution_count": null,
   "metadata": {},
   "outputs": [],
   "source": [
    "total_data = pd.DataFrame({'dm32':sk_data.dm32, 's2_t13':sk_data.s2_t13, 's2_t23':sk_data.s2_t23, 'ji':sum_ji})"
   ]
  },
  {
   "cell_type": "code",
   "execution_count": null,
   "metadata": {},
   "outputs": [],
   "source": [
    "sk_data['ji'][44795]+reno_data['ji'][44795]+minos_data['ji'][44795]+db_data['ji'][44795]"
   ]
  },
  {
   "cell_type": "markdown",
   "metadata": {},
   "source": [
    "## Unificado 1D vs $\\Delta \\chi^2$"
   ]
  },
  {
   "cell_type": "code",
   "execution_count": null,
   "metadata": {},
   "outputs": [],
   "source": [
    "def ploter_UNIFIED_profile(df,param,size):\n",
    "    r = get_interpolated_data_1D(df,param,size)\n",
    "    \n",
    "    fig, ax = plt.subplots(figsize=(9,6))\n",
    "    ax.plot(param, 'ji', data=r,label='Unified analysis',c='black')\n",
    "    lgnd = plt.legend(loc=\"upper right\",fontsize=13)\n",
    "    \n",
    "    labels=[]    \n",
    "    if(param=='dm32'):\n",
    "        ax.set_xlim(0.002, 0.003)\n",
    "        ax.set_xticks([0.002,0.0022,0.0024,0.0026,0.0028,0.003])\n",
    "        ax.set_xticklabels(['$2.0$','$2.2$','$2.4$','$2.6$','$2.8$','$3.0$'])\n",
    "        \n",
    "        ax.set_ylim(0, 12)\n",
    "        ax.set_yticks([0,2,4,6,8,10,12])\n",
    "        ax.set_yticklabels(['$0$','$2$','$4$','$6$','$8$','$10$','$12$'])\n",
    "        \n",
    "        labels=[r'$\\Delta m^2_{32}$ [eV$^2$] (x10$^{-3}$)',r'$\\Delta \\chi^2 $']\n",
    "    elif(param=='s2_t13'):\n",
    "        ax.set_ylim(0, 12)   \n",
    "        ax.set_yticks([0,2,4,6,8,10,12])\n",
    "        ax.set_yticklabels(['$0$','$2$','$4$','$6$','$8$','$10$','$12$'])\n",
    "        \n",
    "        ax.set_xlim(0.015, 0.03)\n",
    "        ax.set_xticks([0.015,0.020,0.025,0.030])\n",
    "        ax.set_xticklabels(['$0.015$','$0.020$','$0.025$','$0.030$'])\n",
    "        \n",
    "        labels=[r'$\\sin^2 \\theta_{13}$',r'$\\Delta \\chi^2 $']\n",
    "    elif(param=='s2_t23'):\n",
    "        ax.set_ylim(0, 20)   \n",
    "        ax.set_yticks([0,5,10,15,20])\n",
    "        ax.set_yticklabels(['$0$','$5$','$10$','$15$','$20$'])\n",
    "        \n",
    "        labels=[r'$\\sin^2 \\theta_{23}$',r'$\\Delta \\chi^2 $']\n",
    "    else:\n",
    "        print('Opción no de \"param\" es incorrecta')\n",
    "        \n",
    "    ax.tick_params(labelcolor='black', labelsize=14, width=1)\n",
    "    \n",
    "    ax.set(xlabel=labels[0], ylabel=labels[1])\n",
    "    ax.xaxis.label.set_size(15)\n",
    "    ax.yaxis.label.set_size(15)\n",
    "    plt.tight_layout()\n",
    "    ax.grid(True, linestyle='--')\n",
    "    \n",
    "    fig.savefig('images/plot_UNIFIED_'+param+'_vs_ji.png')\n",
    "    return  "
   ]
  },
  {
   "cell_type": "code",
   "execution_count": null,
   "metadata": {},
   "outputs": [],
   "source": [
    "ploter_UNIFIED_profile(total_data,'dm32',1000)"
   ]
  },
  {
   "cell_type": "code",
   "execution_count": null,
   "metadata": {},
   "outputs": [],
   "source": [
    "ploter_UNIFIED_profile(total_data,'s2_t23',1000)"
   ]
  },
  {
   "cell_type": "code",
   "execution_count": null,
   "metadata": {},
   "outputs": [],
   "source": [
    "ploter_UNIFIED_profile(total_data,'s2_t13',1000)"
   ]
  },
  {
   "cell_type": "markdown",
   "metadata": {},
   "source": [
    "## Unificado ( 2D vs $\\Delta \\chi^2$ )"
   ]
  },
  {
   "cell_type": "code",
   "execution_count": null,
   "metadata": {},
   "outputs": [],
   "source": [
    "def ploter_UNIFIED_confidence_regions(df,params,size):\n",
    "    \n",
    "    df = get_interpolated_data_2D(df,params,size)\n",
    "    \n",
    "    cl_68 = df[ (df['ji']  <=  2.30)  & (df['ji']  >=  2.15) ]   # 68.27 C.L. \n",
    "    #cl_90 = df[ (df['ji']  <=  4.61)  & (df['ji']  >=  4.51) ]\n",
    "    cl_95 = df[ (df['ji']  <=  6.18)  & (df['ji']  >=  6.05) ]   # 95.45 C.L.\n",
    "    cl_99 = df[ (df['ji']  <=  11.83) & (df['ji']  >=  11.65) ]  # 99.73 C.L.\n",
    "    \n",
    "    fig, ax = plt.subplots(figsize=(9,6))\n",
    "    \n",
    "    par =[]\n",
    "    labels = []    \n",
    "    if( ('dm32' in params) & ('s2_t13' in params) ):\n",
    "        par.append('s2_t13')\n",
    "        par.append('dm32')\n",
    "        ax.set_xlim(0.018, 0.028)\n",
    "        ax.set_xticks([0.018,0.02,0.022,0.024,0.026,0.028])\n",
    "        ax.set_xticklabels(['$0.018$','$0.020$','$0.022$','$0.024$','$0.026$','$0.028$'])\n",
    "        \n",
    "        ax.set_ylim(0.002, 0.003)   \n",
    "        ax.set_yticks([0.002,0.0022,0.0024,0.0026,0.0028,0.0030])\n",
    "        ax.set_yticklabels(['$2.0$','$2.2$','$2.4$','$2.6$','$2.8$','$3.0$'])\n",
    "        labels = [r'$\\sin^2 \\theta_{13}$',r'$\\Delta m^2_{32}$'+' [eV$^2$] (x10$^{-3}$)']        \n",
    "    elif( ('dm32' in params) & ('s2_t23' in params) ):\n",
    "        par.append('s2_t23')\n",
    "        par.append('dm32')     \n",
    "        \n",
    "        ax.set_xlim(0.3, 0.7)\n",
    "        ax.set_xticks([0.3,0.4,0.5,0.6,0.7])\n",
    "        ax.set_xticklabels(['$0.3$','$0.4$','$0.5$','$0.6$','$0.7$'])\n",
    "        \n",
    "        ax.set_ylim(0.002, 0.0030)   \n",
    "        ax.set_yticks([0.002,0.0022,0.0024,0.0026,0.0028,0.0030])\n",
    "        ax.set_yticklabels(['$2.0$','$2.2$','$2.4$','$2.6$','$2.8$','$3.0$'])\n",
    "        \n",
    "        labels = [r'$\\sin^2 \\theta_{23}$',r'$\\Delta m^2_{32}$'+' [eV$^2$] (x10$^{-3}$)']\n",
    "    elif( ('s2_t13' in params) & ('s2_t23' in params) ):\n",
    "        par.append('s2_t13')\n",
    "        par.append('s2_t23')        \n",
    "        \n",
    "        ax.set_xlim(0.018, 0.028)\n",
    "        ax.set_xticks([0.018,0.02,0.022,0.024,0.026,0.028])\n",
    "        ax.set_xticklabels(['$0.018$','$0.020$','$0.022$','$0.024$','$0.026$','$0.028$'])\n",
    "        \n",
    "        ax.set_ylim(0.3, 0.7)\n",
    "        ax.set_yticks([0.3,0.4,0.5,0.6,0.7])\n",
    "        ax.set_yticklabels(['$0.3$','$0.4$','$0.5$','$0.6$','$0.7$'])\n",
    "        \n",
    "        labels = [r'$\\sin^2 \\theta_{13}$',r'$\\sin^2 \\theta_{23}$']\n",
    "    else:\n",
    "        print('Opción no correcta')\n",
    "    \n",
    "    ax.scatter(par[0], par[1], data=cl_99, c='black',s=0.5)\n",
    "    ax.scatter(par[0], par[1], data=cl_95, c='red',s=0.5)    \n",
    "    #ax.scatter(par[0], par[1], data=cl_90, c='black',s=0.5)\n",
    "    ax.scatter(par[0], par[1], data=cl_68, c='blue',s=0.5)\n",
    "    \n",
    "    ax.set(xlabel=labels[0], ylabel=labels[1],  title='Unified analysis')\n",
    "    ax.xaxis.label.set_size(16)\n",
    "    ax.yaxis.label.set_size(16)\n",
    "    \n",
    "    ax.tick_params(labelcolor='black', labelsize=13, width=1)\n",
    "    \n",
    "    ax.grid(True,linestyle='--')\n",
    "    fig.savefig('images/plot_UNIFIED_'+par[0]+'_'+par[1]+ '_vs_ji.png')\n",
    "    return"
   ]
  },
  {
   "cell_type": "code",
   "execution_count": null,
   "metadata": {},
   "outputs": [],
   "source": [
    "ploter_UNIFIED_confidence_regions(total_data,['dm32','s2_t23'],4000)"
   ]
  },
  {
   "cell_type": "code",
   "execution_count": null,
   "metadata": {},
   "outputs": [],
   "source": [
    "ploter_UNIFIED_confidence_regions(total_data,['dm32','s2_t13'],4000)"
   ]
  },
  {
   "cell_type": "code",
   "execution_count": null,
   "metadata": {},
   "outputs": [],
   "source": [
    "ploter_UNIFIED_confidence_regions(total_data,['s2_t23','s2_t13'],4000)"
   ]
  },
  {
   "cell_type": "code",
   "execution_count": null,
   "metadata": {},
   "outputs": [],
   "source": []
  }
 ],
 "metadata": {
  "kernelspec": {
   "display_name": "Python 3",
   "language": "python",
   "name": "python3"
  },
  "language_info": {
   "codemirror_mode": {
    "name": "ipython",
    "version": 3
   },
   "file_extension": ".py",
   "mimetype": "text/x-python",
   "name": "python",
   "nbconvert_exporter": "python",
   "pygments_lexer": "ipython3",
   "version": "3.7.6"
  }
 },
 "nbformat": 4,
 "nbformat_minor": 4
}
