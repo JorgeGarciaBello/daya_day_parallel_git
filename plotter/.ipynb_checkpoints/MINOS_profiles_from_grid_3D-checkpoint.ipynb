{
 "cells": [
  {
   "cell_type": "code",
   "execution_count": 1,
   "metadata": {},
   "outputs": [],
   "source": [
    "import pandas as pd\n",
    "import numpy as np\n",
    "import matplotlib.pyplot as plt\n",
    "from scipy import interpolate"
   ]
  },
  {
   "cell_type": "code",
   "execution_count": 145,
   "metadata": {},
   "outputs": [],
   "source": [
    "df = pd.read_csv('minos_nh_ih/minos.3D.grid.of.sk.dm32.s2t13.s2t23.nh', names=['dm32','s2_t13','s2_t23','ji'], delim_whitespace=True)"
   ]
  },
  {
   "cell_type": "code",
   "execution_count": 288,
   "metadata": {},
   "outputs": [],
   "source": [
    "def get_min_vals(df):\n",
    "    \n",
    "    idx_min    = df['ji'].idxmin()\n",
    "    ji_min     = df['ji'][idx_min]\n",
    "    dm32_min   = df['dm32'][idx_min]\n",
    "    s2_t13_min = df['s2_t13'][idx_min]\n",
    "    s2_t23_min = df['s2_t23'][idx_min]    \n",
    "    \n",
    "    return {'dm32_min':dm32_min,'s2_t13_min':s2_t13_min,'s2_t23_min':s2_t23_min,'ji_min':ji_min}\n",
    "\n",
    "def get_normalize_data(df,minima_dic):\n",
    "           \n",
    "    df['ji']  = df['ji'] - minima_dic['ji_min']    \n",
    "    print(minima_dic)\n",
    "    \n",
    "    return df\n",
    "\n",
    "def get_data_to_plotter_1D(df,param):        \n",
    "    \n",
    "        dat_mins=get_min_vals(df)\n",
    "        data=get_normalize_data(df,dat_mins)\n",
    "        \n",
    "        if(param=='dm32'):\n",
    "            result = data[ ( data['s2_t13'] == dat_mins['s2_t13_min'] ) & ( data['s2_t23'] == dat_mins['s2_t23_min'] ) ]\n",
    "            data = result[ ['dm32','ji'] ]\n",
    "        elif(param=='s2_t13'):\n",
    "            result = data[(data['dm32']   == dat_mins['dm32_min']) & (data['s2_t23'] == dat_mins['s2_t23_min'])]\n",
    "            data = result[['s2_t13','ji']]\n",
    "        elif(param=='s2_t23'):\n",
    "            result = data[(data['dm32']   == dat_mins['dm32_min']) & (data['s2_t13'] == dat_mins['s2_t13_min'])]\n",
    "            data = result[['s2_t23','ji']]\n",
    "        return data\n",
    "    \n",
    "def get_interpolated_data_1D(df,param,size):\n",
    "    \n",
    "    df = get_data_to_plotter_1D(df,param)\n",
    "    \n",
    "    x = df[param].values\n",
    "    #x=np.append(x,x[-1]*(1.1))\n",
    "    \n",
    "    y = df.ji.values\n",
    "    #y=np.append(y,y[-1]*y[-1]*15)\n",
    "    \n",
    "    f1 = interpolate.interp1d(x, y, kind = 'cubic')\n",
    "    x_new = np.linspace(x[0], x[-1],size)\n",
    "    y_new = f1(x_new)\n",
    "    data_new = pd.DataFrame({param:x_new,'ji':y_new})    \n",
    "    return data_new\n",
    "\n",
    "def get_data_to_plotter_2D(df,params):        \n",
    "    \n",
    "        dat_mins=get_min_vals(df)\n",
    "        data=get_normalize_data(df,dat_mins)\n",
    "        parameters = ['dm32','s2_t13','s2_t23']\n",
    "        if ((params[0] not in parameters) or (params[1] not in parameters)): \n",
    "            print('Metiste mal los parametros a gráficas, deben ser: [dm32,s2_t13,s2_t23] ')\n",
    "        else:            \n",
    "            if(('dm32' in params) & ('s2_t13' in params)):                \n",
    "                \n",
    "                result = data[ data['s2_t23'] == dat_mins['s2_t23_min'] ]\n",
    "                data   = result[ ['dm32','s2_t13','ji'] ]                \n",
    "                \n",
    "            elif(('dm32' in params) & ('s2_t23' in params)):\n",
    "\n",
    "                result = data[ data['s2_t13'] == dat_mins['s2_t13_min'] ]\n",
    "                data = result[ ['dm32','s2_t23','ji'] ]\n",
    "\n",
    "            elif(('s2_t13' in params) & ('s2_t23' in params)):\n",
    "\n",
    "                result = data[ data['dm32'] == dat_mins['dm32_min'] ]\n",
    "                data = result[ ['s2_t13','s2_t23','ji'] ]\n",
    "\n",
    "            else:\n",
    "                print('La opción no existe')            \n",
    "        return data\n",
    "\n",
    "def get_interpolated_data_2D(df,params,size):\n",
    "     \n",
    "    df1 = get_data_to_plotter_2D(df,params)\n",
    "    par =[]\n",
    "\n",
    "    if(('dm32' in params) & ('s2_t13' in params)):\n",
    "        par.append('dm32')\n",
    "        par.append('s2_t13')\n",
    "    elif(('dm32' in params) & ('s2_t23' in params)):            \n",
    "        par.append('dm32')\n",
    "        par.append('s2_t23')    \n",
    "    elif(('s2_t13' in params) & ('s2_t23' in params)):\n",
    "        par.append('s2_t13')\n",
    "        par.append('s2_t23')\n",
    "    else:\n",
    "        print('La opción no existe')\n",
    "        \n",
    "     \n",
    "    x=df1[par[0]].drop_duplicates().to_numpy()\n",
    "    y=df1[par[1]].drop_duplicates().to_numpy() ###\n",
    "    z=df1.ji.values                \n",
    "\n",
    "    f = interpolate.interp2d(x, y, z, kind='cubic')\n",
    "\n",
    "    x_new=np.linspace(x[0], x[-1],size)\n",
    "    y_new=np.linspace(y[0], y[-1],size)\n",
    "    z_for_my=f(x_new,y_new)\n",
    "    z_for_my=z_for_my.T\n",
    "    z_new=z_for_my.reshape(size*size)\n",
    "    \n",
    "    x=[]\n",
    "    y=[]\n",
    "    for i in x_new:\n",
    "        for j in y_new:\n",
    "            x.append(i)\n",
    "            y.append(j)\n",
    "    data_new = pd.DataFrame({par[0]:x,par[1]:y,'ji':z_new})      \n",
    "    return data_new"
   ]
  },
  {
   "cell_type": "markdown",
   "metadata": {},
   "source": [
    "# MINOS  - ( $\\sin^2 \\theta_{13}$, $\\sin^2 \\theta_{23}$, $\\Delta m^2_{32}$ vs $\\Delta \\chi^2$)"
   ]
  },
  {
   "cell_type": "code",
   "execution_count": 260,
   "metadata": {},
   "outputs": [],
   "source": [
    "def ploter_MINOS_profile(df,param,size):\n",
    "    r = get_interpolated_data_1D(df,param,size)\n",
    "    fig, ax = plt.subplots()\n",
    "    \n",
    "    ax.plot(param, 'ji', data=r,label='MINOS',c='black')\n",
    "    lgnd = plt.legend(loc=\"upper right\",fontsize=13)#, scatterpoints=1, )\n",
    "    \n",
    "    labels=[]    \n",
    "    if(param=='dm32'):\n",
    "        #ax.set_xlim(0.2, 0.8)\n",
    "        #ax.set_xticks([0.2,0.4,0.6,0.8])\n",
    "        #ax.set_xticklabels(['$0.2$','$0.4$','$0.6$','$0.8$'])\n",
    "        \n",
    "        ax.set_ylim(0, 20)   \n",
    "        ax.set_yticks([0,5,10,15,20])\n",
    "        ax.set_yticklabels(['$0$','$5$','$10$','$15$','$20$'])\n",
    "        \n",
    "        labels=[r'$\\Delta m^2_{32}$',r'$\\Delta \\chi^2 $']\n",
    "    elif(param=='s2_t13'):\n",
    "        ax.set_ylim(0, 20)   \n",
    "        ax.set_yticks([0,5,10,15,20])\n",
    "        ax.set_yticklabels(['$0$','$5$','$10$','$15$','$20$'])\n",
    "        \n",
    "        labels=[r'$\\sin^2 \\theta_{13}$',r'$\\Delta \\chi^2 $']\n",
    "    elif(param=='s2_t23'):\n",
    "        ax.set_ylim(0, 20)   \n",
    "        ax.set_yticks([0,5,10,15,20])\n",
    "        ax.set_yticklabels(['$0$','$5$','$10$','$15$','$20$'])\n",
    "        \n",
    "        labels=[r'$\\sin^2 \\theta_{23}$',r'$\\Delta \\chi^2 $']\n",
    "    else:\n",
    "        print('Opción no de \"param\" es incorrecta')\n",
    "        \n",
    "    ax.tick_params(labelcolor='black', labelsize=13, width=1)\n",
    "    \n",
    "    ax.set(xlabel=labels[0], ylabel=labels[1])\n",
    "    ax.xaxis.label.set_size(15)\n",
    "    ax.yaxis.label.set_size(15)\n",
    "    plt.tight_layout()\n",
    "    ax.grid(True, linestyle='--')\n",
    "    \n",
    "    fig.savefig('images/plot_MINOS_'+param+'_vs_ji.png')\n",
    "    return   "
   ]
  },
  {
   "cell_type": "code",
   "execution_count": 262,
   "metadata": {},
   "outputs": [],
   "source": [
    "#ploter_MINOS_profile(df,'dm32',1000)\n",
    "#ploter_MINOS_profile(df,'s2_t13',1000)\n",
    "#ploter_MINOS_profile(df,'s2_t23',1000)"
   ]
  },
  {
   "cell_type": "markdown",
   "metadata": {},
   "source": [
    "# MINOS  - ( 2D vs $\\Delta \\chi^2$)"
   ]
  },
  {
   "cell_type": "code",
   "execution_count": 388,
   "metadata": {},
   "outputs": [],
   "source": [
    "def ploter_MINOS_confidence_regions(df,params,size):\n",
    "    \n",
    "    df = get_interpolated_data_2D(df,params,size)\n",
    "    \n",
    "    cl_68 = df[ (df['ji']  <=  2.30) & (df['ji']  >=  2.15) ]    \n",
    "    cl_90 = df[ (df['ji']  <=  4.61) & (df['ji']  >=  4.51) ]\n",
    "    \n",
    "    fig, ax = plt.subplots(figsize=(9,6))\n",
    "    \n",
    "    par =[]\n",
    "    labels = []    \n",
    "    if( ('dm32' in params) & ('s2_t13' in params) ):\n",
    "        par.append('s2_t13')\n",
    "        par.append('dm32')        \n",
    "        labels = [r'$\\sin^2 \\theta_{13}$',r'$\\Delta m^2_{32}$'+' [eV$^2$]']        \n",
    "    elif( ('dm32' in params) & ('s2_t23' in params) ):\n",
    "        par.append('s2_t23')\n",
    "        par.append('dm32')        \n",
    "        labels = [r'$\\sin^2 \\theta_{23}$',r'$\\Delta m^2_{32}$'+' [eV$^2$]']\n",
    "        #ax.set_xlim(0.2, 0.8)\n",
    "        #ax.set_xticks([0.2,0.4,0.6,0.8])\n",
    "        #ax.set_xticklabels(['$0.2$','$0.4$','$0.6$','$0.8$'])\n",
    "        \n",
    "        ax.set_ylim(0.002, 0.0032)   \n",
    "        ax.set_yticks([0.002,0.0022,0.0024,0.0026,0.0028,0.003,0.0032])\n",
    "        ax.set_yticklabels(['$2.0$','$2.2$','$2.4$','$2.6$','$2.8$','$3.0$','$3.2$'])\n",
    "    elif( ('s2_t13' in params) & ('s2_t23' in params) ):\n",
    "        par.append('s2_t13')\n",
    "        par.append('s2_t23')        \n",
    "        labels = [r'$\\sin^2 \\theta_{13}$',r'$\\sin^2 \\theta_{23}$']\n",
    "    else:\n",
    "        print('Opción no correcta')\n",
    "        \n",
    "    ax.scatter(par[0], par[1], data=cl_90, c='blue',s=0.5)\n",
    "    ax.scatter(par[0], par[1], data=cl_68, c='black',s=0.5)\n",
    "    \n",
    "    ax.set(xlabel=labels[0], ylabel=labels[1],  title='MINOS')\n",
    "    ax.xaxis.label.set_size(16)\n",
    "    ax.yaxis.label.set_size(16)\n",
    "    \n",
    "    ax.tick_params(labelcolor='black', labelsize=13, width=1)\n",
    "    \n",
    "    ax.grid(True,linestyle='--')\n",
    "    return"
   ]
  },
  {
   "cell_type": "code",
   "execution_count": null,
   "metadata": {},
   "outputs": [],
   "source": []
  },
  {
   "cell_type": "code",
   "execution_count": 390,
   "metadata": {},
   "outputs": [
    {
     "name": "stdout",
     "output_type": "stream",
     "text": [
      "{'dm32_min': 0.0026, 's2_t13_min': 0.07, 's2_t23_min': 0.7, 'ji_min': 0.0}\n"
     ]
    },
    {
     "data": {
      "image/png": "[encoded data removed]",
      "text/plain": [
       "<Figure size 648x432 with 1 Axes>"
      ]
     },
     "metadata": {
      "needs_background": "light"
     },
     "output_type": "display_data"
    }
   ],
   "source": [
    "ploter_MINOS_confidence_regions(df,['dm32','s2_t23'],1800)\n",
    "#ploter_MINOS_confidence_regions(df,['s2_t13','dm32'],1000)\n",
    "#ploter_MINOS_confidence_regions(df,['s2_t23','s2_t13'],1000)"
   ]
  },
  {
   "cell_type": "code",
   "execution_count": null,
   "metadata": {},
   "outputs": [],
   "source": []
  },
  {
   "cell_type": "code",
   "execution_count": null,
   "metadata": {},
   "outputs": [],
   "source": []
  },
  {
   "cell_type": "code",
   "execution_count": null,
   "metadata": {},
   "outputs": [],
   "source": []
  },
  {
   "cell_type": "code",
   "execution_count": null,
   "metadata": {},
   "outputs": [],
   "source": []
  },
  {
   "cell_type": "code",
   "execution_count": null,
   "metadata": {},
   "outputs": [],
   "source": []
  },
  {
   "cell_type": "code",
   "execution_count": null,
   "metadata": {},
   "outputs": [],
   "source": []
  },
  {
   "cell_type": "code",
   "execution_count": null,
   "metadata": {},
   "outputs": [],
   "source": []
  },
  {
   "cell_type": "code",
   "execution_count": null,
   "metadata": {},
   "outputs": [],
   "source": []
  },
  {
   "cell_type": "code",
   "execution_count": null,
   "metadata": {},
   "outputs": [],
   "source": []
  },
  {
   "cell_type": "code",
   "execution_count": null,
   "metadata": {},
   "outputs": [],
   "source": []
  }
 ],
 "metadata": {
  "kernelspec": {
   "display_name": "Python 3",
   "language": "python",
   "name": "python3"
  },
  "language_info": {
   "codemirror_mode": {
    "name": "ipython",
    "version": 3
   },
   "file_extension": ".py",
   "mimetype": "text/x-python",
   "name": "python",
   "nbconvert_exporter": "python",
   "pygments_lexer": "ipython3",
   "version": "3.7.6"
  }
 },
 "nbformat": 4,
 "nbformat_minor": 4
}
