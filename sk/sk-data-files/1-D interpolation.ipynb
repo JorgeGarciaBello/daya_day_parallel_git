{
 "cells": [
  {
   "cell_type": "code",
   "execution_count": 1,
   "metadata": {},
   "outputs": [],
   "source": [
    "# We will use Scipy for interpolate an set of data of 1-D.\n",
    "# Loading packages\n",
    "import numpy as np\n",
    "import pandas as pd\n",
    "from scipy import interpolate\n",
    "import matplotlib.pyplot as plt"
   ]
  },
  {
   "cell_type": "code",
   "execution_count": 2,
   "metadata": {},
   "outputs": [],
   "source": [
    "# Load names. First, the one for the data file to interpolate. Second the new name for the  interpolated data file\n",
    "#name_file = 'sdr_dm_32_vs_chi_nh.dat'\n",
    "#new_name_file = 'new_dm32_vs_chi2_nh.txt'\n",
    "\n",
    "#name_file = 'sdr_sin2t13_vs_chi_nh.dat'\n",
    "#new_name_file = 'new_sin2t13_vs_chi2_nh.dat'\n",
    "\n",
    "name_file = 'sdr_sin2t23_vs_chi_nh.dat'\n",
    "new_name_file = 'new_sin2t23_vs_chi2_nh.dat'"
   ]
  },
  {
   "cell_type": "code",
   "execution_count": 3,
   "metadata": {},
   "outputs": [],
   "source": [
    "# Load data to interpolate\n",
    "data = pd.read_csv(name_file,names =['x','y'],delim_whitespace=True)\n",
    "x=data.x.to_numpy()\n",
    "y=data.y.to_numpy()"
   ]
  },
  {
   "cell_type": "code",
   "execution_count": 4,
   "metadata": {},
   "outputs": [
    {
     "data": {
      "image/png": "[encoded data removed]",
      "text/plain": [
       "<Figure size 432x288 with 1 Axes>"
      ]
     },
     "metadata": {
      "needs_background": "light"
     },
     "output_type": "display_data"
    }
   ],
   "source": [
    "plt.plot(x,y,'o')\n",
    "plt.show()"
   ]
  },
  {
   "cell_type": "code",
   "execution_count": 5,
   "metadata": {},
   "outputs": [],
   "source": [
    "f1 = interpolate.interp1d(x,y,kind = 'cubic')"
   ]
  },
  {
   "cell_type": "code",
   "execution_count": 6,
   "metadata": {},
   "outputs": [],
   "source": [
    "xnew = np.linspace(x[0],x[-1],500)\n",
    "ynew = f1(xnew)"
   ]
  },
  {
   "cell_type": "code",
   "execution_count": 7,
   "metadata": {},
   "outputs": [
    {
     "data": {
      "image/png": "[encoded data removed]",
      "text/plain": [
       "<Figure size 432x288 with 1 Axes>"
      ]
     },
     "metadata": {
      "needs_background": "light"
     },
     "output_type": "display_data"
    }
   ],
   "source": [
    "plt.plot(x,y,'-', xnew,ynew,'o')\n",
    "plt.legend(['data','cubic'])\n",
    "plt.show()"
   ]
  },
  {
   "cell_type": "code",
   "execution_count": 8,
   "metadata": {},
   "outputs": [],
   "source": [
    "new_data = pd.DataFrame({'x':xnew, 'y':ynew})"
   ]
  },
  {
   "cell_type": "code",
   "execution_count": 9,
   "metadata": {},
   "outputs": [],
   "source": [
    "new_data.to_csv(new_name_file, sep='\\t', index=False,header=False)"
   ]
  },
  {
   "cell_type": "code",
   "execution_count": null,
   "metadata": {},
   "outputs": [],
   "source": []
  }
 ],
 "metadata": {
  "kernelspec": {
   "display_name": "Python 3",
   "language": "python",
   "name": "python3"
  },
  "language_info": {
   "codemirror_mode": {
    "name": "ipython",
    "version": 3
   },
   "file_extension": ".py",
   "mimetype": "text/x-python",
   "name": "python",
   "nbconvert_exporter": "python",
   "pygments_lexer": "ipython3",
   "version": "3.7.6"
  }
 },
 "nbformat": 4,
 "nbformat_minor": 4
}
